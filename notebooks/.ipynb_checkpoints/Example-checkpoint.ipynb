{
 "cells": [
  {
   "cell_type": "code",
   "execution_count": 2,
   "id": "cec9e530-4877-4005-95c8-d97e25c10683",
   "metadata": {},
   "outputs": [
    {
     "name": "stderr",
     "output_type": "stream",
     "text": [
      "/tmp/ipykernel_96928/3456646969.py:3: DeprecationWarning: the imp module is deprecated in favour of importlib; see the module's documentation for alternative uses\n",
      "  import imp\n"
     ]
    }
   ],
   "source": [
    "import pandas as pd\n",
    "import numpy as np\n",
    "import imp"
   ]
  },
  {
   "cell_type": "code",
   "execution_count": null,
   "id": "9bd7b113-c56b-472f-9d1c-1aaa2cedfed9",
   "metadata": {},
   "outputs": [],
   "source": [
    "import warnings\n",
    "warnings.filterwarnings(\"ignore\")"
   ]
  },
  {
   "cell_type": "code",
   "execution_count": null,
   "id": "077e2afd-6328-431b-a80e-0f09e4b2782b",
   "metadata": {},
   "outputs": [],
   "source": [
    "raw_dat = pd.read_excel(\"../data/raw_data.xlsx\")\n",
    "raw_dat['Normalized'] = (raw_dat['mkt_r'] - raw_dat['dep_f_r'])/(raw_dat['len_f_r'] - raw_dat['dep_f_r'])\n",
    "dat = raw_dat.drop(columns=['mkt_r', 'dep_f_r', 'len_f_r'])\n",
    "# dat.to_csv(\"../data/reserve_demand_cruve_data.csv\", index=False)"
   ]
  },
  {
   "cell_type": "code",
   "execution_count": null,
   "id": "a4dfc210-d13f-4a9c-bef1-b6304528ad6a",
   "metadata": {},
   "outputs": [],
   "source": [
    "dat = pd.read_csv(\"../data/reserve_demand_cruve_data.csv\")"
   ]
  },
  {
   "cell_type": "code",
   "execution_count": null,
   "id": "6ae1ef1a-fa61-4d8a-b4e4-1a5517cbff68",
   "metadata": {},
   "outputs": [],
   "source": [
    "import curve_fit as cf\n",
    "imp.reload(cf)\n",
    "\n",
    "obj = cf.CurveFitter(\n",
    "    data = dat, \n",
    "    dep_var = 'Normalized',\n",
    "    main_indep_var= 'excess_reserve',\n",
    "    dep_var_name= 'Normalized Overnight Rate',                 \n",
    "    main_indep_var_name= 'Excess Reserve',\n",
    "    dummy_col =None,\n",
    "    constant = True,\n",
    "    Q = 0.9,\n",
    "    nFolds=5,\n",
    "    parallel=False,\n",
    "    search_method = 'backward'\n",
    ")\n",
    "obj.variable_select()"
   ]
  },
  {
   "cell_type": "code",
   "execution_count": null,
   "id": "01e8ac78-8cfc-4a4d-aa1a-9e6e5fac9859",
   "metadata": {},
   "outputs": [],
   "source": []
  }
 ],
 "metadata": {
  "kernelspec": {
   "display_name": "forecast",
   "language": "python",
   "name": "forecast"
  },
  "language_info": {
   "codemirror_mode": {
    "name": "ipython",
    "version": 3
   },
   "file_extension": ".py",
   "mimetype": "text/x-python",
   "name": "python",
   "nbconvert_exporter": "python",
   "pygments_lexer": "ipython3",
   "version": "3.9.7"
  }
 },
 "nbformat": 4,
 "nbformat_minor": 5
}
