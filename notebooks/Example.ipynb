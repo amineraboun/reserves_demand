{
 "cells": [
  {
   "cell_type": "code",
   "execution_count": 7,
   "id": "cec9e530-4877-4005-95c8-d97e25c10683",
   "metadata": {},
   "outputs": [],
   "source": [
    "import pandas as pd\n",
    "import numpy as np\n",
    "import imp"
   ]
  },
  {
   "cell_type": "code",
   "execution_count": 8,
   "id": "9bd7b113-c56b-472f-9d1c-1aaa2cedfed9",
   "metadata": {},
   "outputs": [],
   "source": [
    "import warnings\n",
    "warnings.filterwarnings(\"ignore\")"
   ]
  },
  {
   "cell_type": "code",
   "execution_count": 9,
   "id": "077e2afd-6328-431b-a80e-0f09e4b2782b",
   "metadata": {},
   "outputs": [],
   "source": [
    "raw_dat = pd.read_excel(\"../data/raw_data.xlsx\")\n",
    "raw_dat['Normalized'] = (raw_dat['mkt_r'] - raw_dat['dep_f_r'])/(raw_dat['len_f_r'] - raw_dat['dep_f_r'])\n",
    "dat = raw_dat.drop(columns=['mkt_r', 'dep_f_r', 'len_f_r'])\n",
    "# dat.to_csv(\"../data/reserve_demand_cruve_data.csv\", index=False)"
   ]
  },
  {
   "cell_type": "code",
   "execution_count": 10,
   "id": "a4dfc210-d13f-4a9c-bef1-b6304528ad6a",
   "metadata": {},
   "outputs": [],
   "source": [
    "dat = pd.read_csv(\"../data/reserve_demand_cruve_data.csv\")"
   ]
  },
  {
   "cell_type": "code",
   "execution_count": 19,
   "id": "6ae1ef1a-fa61-4d8a-b4e4-1a5517cbff68",
   "metadata": {},
   "outputs": [
    {
     "name": "stdout",
     "output_type": "stream",
     "text": [
      "==================================================\n",
      "Running cross-validation for logistic curve\n",
      "==================================================\n"
     ]
    },
    {
     "name": "stderr",
     "output_type": "stream",
     "text": [
      "100%|██████████| 63/63 [00:40<00:00,  1.57 it/s]"
     ]
    },
    {
     "name": "stdout",
     "output_type": "stream",
     "text": [
      "Best combination for logistic: ['excess_reserve', 'vix', 'acnusd']\n",
      "Training Metrics:\n",
      "RMSE         0.060783\n",
      "MAE          0.038470\n",
      "MAPE        22.611494\n",
      "R2           0.911974\n",
      "MSLE         0.002417\n",
      "MedianAE     0.018761\n",
      "dtype: float64\n",
      "\n",
      "Validation Metrics:\n",
      "RMSE         0.060734\n",
      "MAE          0.038908\n",
      "MAPE        22.787613\n",
      "R2           0.909969\n",
      "MSLE         0.002459\n",
      "MedianAE     0.019129\n",
      "dtype: float64\n",
      "\n",
      "\n",
      "==================================================\n",
      "Running cross-validation for redLogistic curve\n",
      "==================================================\n"
     ]
    },
    {
     "name": "stderr",
     "output_type": "stream",
     "text": [
      "\n",
      " 87%|████████▋ | 55/63 [00:26<00:03,  2.31 it/s]"
     ]
    }
   ],
   "source": [
    "import reserves_demand.curve_fit as cf\n",
    "imp.reload(cf)\n",
    "\n",
    "obj = cf.CurveFitter(\n",
    "    data = dat, \n",
    "    dep_var = 'Normalized',\n",
    "    main_indep_var= 'excess_reserve',\n",
    "    dep_var_name= 'Normalized Overnight Rate',                 \n",
    "    main_indep_var_name= 'Excess Reserve',\n",
    "    dummy_col =None,\n",
    "    constant = True,\n",
    "    Q = 0.9,\n",
    "    nFolds=5,\n",
    "    parallel=True,\n",
    "    search_method = 'all_combinations'\n",
    ")\n",
    "best_curve, cv_result = obj.variable_select(on='RMSE')"
   ]
  },
  {
   "cell_type": "code",
   "execution_count": null,
   "id": "5d5b1f85",
   "metadata": {},
   "outputs": [
    {
     "data": {
      "text/plain": [
       "{'logistic': {'vars': ['excess_reserve', 'vix', 'acnusd'],\n",
       "  'avg': array([ 3.20862816e-02,  9.54462640e-01,  2.37994910e-02, -2.27238351e+00,\n",
       "         -3.52856206e-03, -1.83319230e-03]),\n",
       "  'upper': array([-0.11604193,  0.74296785,  0.18215942, -2.37268304, -0.01149307,\n",
       "         -0.03882772]),\n",
       "  'lower': array([-0.66527827,  0.51100519,  0.57578265, -2.16060889,  0.0345727 ,\n",
       "         -0.89591137])},\n",
       " 'redLogistic': {'vars': ['excess_reserve', 'vix', 'hicp'],\n",
       "  'avg': array([-0.94472063,  0.34344783, -9.21034037, -0.15019342, -0.1228711 ]),\n",
       "  'upper': array([-1.01137884,  0.38857342, -1.60017887, -0.02319583, -0.20243817]),\n",
       "  'lower': array([-1.11950121,  0.65019221, -1.00340151, -1.60154613, -1.36027736])},\n",
       " 'fixLogistic': {'vars': ['constant', 'excess_reserve', 'vix', 'hicp'],\n",
       "  'avg': array([-0.94471235, -1.06876642, -9.21034037, -0.1500971 , -0.12283774]),\n",
       "  'upper': array([-0.93871238, -1.05038029, -4.33849005, -0.06718281, -0.13718213]),\n",
       "  'lower': array([-1.1547451 , -0.47720246, -1.05651146, -1.37060622, -1.1442921 ])},\n",
       " 'doubleExp': {'vars': ['constant', 'excess_reserve', 'vix', 'acnusd'],\n",
       "  'avg': array([-0.05866187,  0.09866099,  6.66487589, -1.04087566, -0.96544131,\n",
       "         -1.01107652, -0.99485923]),\n",
       "  'upper': array([-1.01604752,  1.09403192,  0.75160913, -0.68910986, -6.20744354,\n",
       "          0.02564345, -0.10870015]),\n",
       "  'lower': array([-0.02387711,  0.07613373, -0.10034241, -0.9999659 , -0.99996672,\n",
       "         -0.99999817, -0.99997651])},\n",
       " 'exponential': {'vars': ['constant',\n",
       "   'excess_reserve',\n",
       "   'vix',\n",
       "   'acnusd',\n",
       "   'hicp'],\n",
       "  'avg': array([ 0.05446476,  7.4657276 , -2.57758353, -9.21034037, -0.37389838,\n",
       "         -0.09361213, -0.24779801]),\n",
       "  'upper': array([ 0.08176088,  1.4849857 , -1.08795565, -7.62476859,  0.01968385,\n",
       "         -0.18056749,  0.06672646]),\n",
       "  'lower': array([-0.09701077,  2.08162954, -0.83673515, -1.06928262, -0.83366905,\n",
       "         -0.87039696, -1.1488698 ])},\n",
       " 'fixExponential': {'vars': ['excess_reserve', 'vix', 'hicp'],\n",
       "  'avg': array([ 0.58062435, -9.21034037, -0.21763884, -0.17731969]),\n",
       "  'upper': array([ 0.62293614, -2.09383289, -0.03498276, -0.32604064]),\n",
       "  'lower': array([ 1.09910067, -9.21034037, -2.50000818, -1.90114708])},\n",
       " 'arctan': {'vars': ['constant', 'excess_reserve', 'vix', 'acnusd', 'hicp'],\n",
       "  'avg': array([ 0.44963489,  0.27348233,  0.66897638, -9.21034037, -0.7686373 ,\n",
       "         -0.14656284, -0.61714291]),\n",
       "  'upper': array([ 0.47213558,  0.27970217,  0.44967318, -9.21034037, -0.12498829,\n",
       "         -0.18974165, -0.09582517]),\n",
       "  'lower': array([ 3.73999551,  2.68075382, -1.94062742, -1.16522141, -1.34352363,\n",
       "         -1.65104478, -1.99957351])},\n",
       " 'linear': {'vars': ['constant', 'excess_reserve', 'ovn_vol', 'vix', 'hicp'],\n",
       "  'avg': array([ 0.55409546, -0.08763962,  0.2468034 , -0.32281035, -0.45590941]),\n",
       "  'upper': array([ 0.52923228, -0.22329262,  0.20044217, -0.06077129, -0.2511057 ]),\n",
       "  'lower': array([ 0.60459911,  0.07741414,  0.08923223, -0.5142738 , -0.69478101])}}"
      ]
     },
     "execution_count": 17,
     "metadata": {},
     "output_type": "execute_result"
    }
   ],
   "source": [
    "best_params = obj.fit_best_curves()"
   ]
  },
  {
   "cell_type": "code",
   "execution_count": null,
   "id": "57ffa1ca",
   "metadata": {},
   "outputs": [
    {
     "ename": "KeyError",
     "evalue": "'up'",
     "output_type": "error",
     "traceback": [
      "\u001b[0;31m---------------------------------------------------------------------------\u001b[0m",
      "\u001b[0;31mKeyError\u001b[0m                                  Traceback (most recent call last)",
      "Cell \u001b[0;32mIn[18], line 1\u001b[0m\n\u001b[0;32m----> 1\u001b[0m \u001b[43mobj\u001b[49m\u001b[38;5;241;43m.\u001b[39;49m\u001b[43mcompare_curves\u001b[49m\u001b[43m(\u001b[49m\u001b[43m)\u001b[49m\n",
      "File \u001b[0;32m~/Documents/Projects/reserves_demand/reserves_demand/curve_fit.py:476\u001b[0m, in \u001b[0;36mCurveFitter.compare_curves\u001b[0;34m(self, plot)\u001b[0m\n\u001b[1;32m    474\u001b[0m _perf_metrics \u001b[38;5;241m=\u001b[39m {}; _params \u001b[38;5;241m=\u001b[39m {}\n\u001b[1;32m    475\u001b[0m \u001b[38;5;28;01mfor\u001b[39;00m curvename \u001b[38;5;129;01min\u001b[39;00m fitted_curves:\n\u001b[0;32m--> 476\u001b[0m     ypred, yqlb, yqub, _ \u001b[38;5;241m=\u001b[39m \u001b[38;5;28;43mself\u001b[39;49m\u001b[38;5;241;43m.\u001b[39;49m\u001b[43mpredict_best_curve\u001b[49m\u001b[43m(\u001b[49m\u001b[43mcurvename\u001b[49m\u001b[43m)\u001b[49m\n\u001b[1;32m    477\u001b[0m     predictions[curvename] \u001b[38;5;241m=\u001b[39m {\u001b[38;5;124m'\u001b[39m\u001b[38;5;124mypred\u001b[39m\u001b[38;5;124m'\u001b[39m: ypred, \u001b[38;5;124m'\u001b[39m\u001b[38;5;124myqlb\u001b[39m\u001b[38;5;124m'\u001b[39m: yqlb, \u001b[38;5;124m'\u001b[39m\u001b[38;5;124myqub\u001b[39m\u001b[38;5;124m'\u001b[39m: yqub}\n\u001b[1;32m    478\u001b[0m     _params \u001b[38;5;241m=\u001b[39m \u001b[38;5;28mself\u001b[39m\u001b[38;5;241m.\u001b[39mbest_curves_params[curvename]       \n",
      "File \u001b[0;32m~/Documents/Projects/reserves_demand/reserves_demand/curve_fit.py:465\u001b[0m, in \u001b[0;36mCurveFitter.predict_best_curve\u001b[0;34m(self, curvename, X)\u001b[0m\n\u001b[1;32m    462\u001b[0m     X \u001b[38;5;241m=\u001b[39m \u001b[38;5;28mself\u001b[39m\u001b[38;5;241m.\u001b[39mx\u001b[38;5;241m.\u001b[39mcopy()\n\u001b[1;32m    463\u001b[0m _params \u001b[38;5;241m=\u001b[39m \u001b[38;5;28mself\u001b[39m\u001b[38;5;241m.\u001b[39mbest_curves_params[curvename]       \n\u001b[0;32m--> 465\u001b[0m ypred, yqlb, yqub, X \u001b[38;5;241m=\u001b[39m \u001b[38;5;28mself\u001b[39m\u001b[38;5;241m.\u001b[39mpredict(curvename, X, _params[\u001b[38;5;124m'\u001b[39m\u001b[38;5;124mvars\u001b[39m\u001b[38;5;124m'\u001b[39m], _params[\u001b[38;5;124m'\u001b[39m\u001b[38;5;124mavg\u001b[39m\u001b[38;5;124m'\u001b[39m], \u001b[43m_params\u001b[49m\u001b[43m[\u001b[49m\u001b[38;5;124;43m'\u001b[39;49m\u001b[38;5;124;43mup\u001b[39;49m\u001b[38;5;124;43m'\u001b[39;49m\u001b[43m]\u001b[49m, _params[\u001b[38;5;124m'\u001b[39m\u001b[38;5;124mdown\u001b[39m\u001b[38;5;124m'\u001b[39m])\n\u001b[1;32m    466\u001b[0m \u001b[38;5;28;01mreturn\u001b[39;00m ypred, yqlb, yqub, X\n",
      "\u001b[0;31mKeyError\u001b[0m: 'up'"
     ]
    }
   ],
   "source": [
    "perf_metrics_df, param_df = obj.compare_curves()"
   ]
  },
  {
   "cell_type": "code",
   "execution_count": null,
   "id": "4c9f19d8",
   "metadata": {},
   "outputs": [],
   "source": []
  }
 ],
 "metadata": {
  "kernelspec": {
   "display_name": "reserves",
   "language": "python",
   "name": "reserves"
  },
  "language_info": {
   "codemirror_mode": {
    "name": "ipython",
    "version": 3
   },
   "file_extension": ".py",
   "mimetype": "text/x-python",
   "name": "python",
   "nbconvert_exporter": "python",
   "pygments_lexer": "ipython3",
   "version": "3.9.7"
  }
 },
 "nbformat": 4,
 "nbformat_minor": 5
}
