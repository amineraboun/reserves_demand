{
 "cells": [
  {
   "cell_type": "code",
   "execution_count": 1,
   "id": "cec9e530-4877-4005-95c8-d97e25c10683",
   "metadata": {},
   "outputs": [],
   "source": [
    "import warnings\n",
    "warnings.filterwarnings(\"ignore\")\n",
    "import pandas as pd"
   ]
  },
  {
   "cell_type": "code",
   "execution_count": 2,
   "id": "077e2afd-6328-431b-a80e-0f09e4b2782b",
   "metadata": {},
   "outputs": [],
   "source": [
    "raw_dat = pd.read_excel(\"../data/raw_data.xlsx\")\n",
    "raw_dat['Normalized'] = (raw_dat['mkt_r'] - raw_dat['dep_f_r'])/(raw_dat['len_f_r'] - raw_dat['dep_f_r'])\n",
    "dat = raw_dat.drop(columns=['mkt_r', 'dep_f_r', 'len_f_r'])\n",
    "dat.to_csv(\"../data/reserve_demand_cruve_data.csv\", index=False)"
   ]
  },
  {
   "cell_type": "markdown",
   "id": "eadc9807",
   "metadata": {},
   "source": [
    "# Non-Parametric Modeling"
   ]
  },
  {
   "cell_type": "code",
   "execution_count": 3,
   "id": "f19dabda",
   "metadata": {},
   "outputs": [],
   "source": [
    "import reserves_demand.curve_nparam_fit as npcf"
   ]
  },
  {
   "cell_type": "code",
   "execution_count": 4,
   "id": "b5708d89",
   "metadata": {},
   "outputs": [],
   "source": [
    "obj = npcf.CurveNonParamFit(\n",
    "    data = dat, \n",
    "    dep_var = 'Normalized',\n",
    "    main_indep_var= 'excess_reserve',\n",
    "    dep_var_name= 'Normalized Overnight Rate',                 \n",
    "    main_indep_var_name= 'Excess Reserve',\n",
    "    nFolds=5,\n",
    ")"
   ]
  },
  {
   "cell_type": "code",
   "execution_count": 5,
   "id": "ce25a9bb",
   "metadata": {},
   "outputs": [],
   "source": [
    "best_model_type, comparison_result  = obj.compare_models(verbose = True, plot=True)\n",
    "comparison_result.set_index('Model Type').T"
   ]
  },
  {
   "cell_type": "code",
   "execution_count": null,
   "id": "dd646607",
   "metadata": {},
   "outputs": [],
   "source": [
    "obj.plot_best()"
   ]
  },
  {
   "cell_type": "code",
   "execution_count": null,
   "id": "9779ee4b",
   "metadata": {},
   "outputs": [],
   "source": [
    "forecast_input = dat.tail(2).drop(columns=['Normalized'])\n",
    "forecast_output = obj.predict_best('Best Model', X=forecast_input)\n",
    "forecast_output"
   ]
  },
  {
   "cell_type": "markdown",
   "id": "fcb6fca5",
   "metadata": {},
   "source": [
    "# Parametric Modeling"
   ]
  },
  {
   "cell_type": "code",
   "execution_count": null,
   "id": "ea6053fe",
   "metadata": {},
   "outputs": [],
   "source": [
    "import reserves_demand.curve_param_fit as pcf\n",
    "obj = pcf.CurveParamFit(\n",
    "    data = dat, \n",
    "    dep_var = 'Normalized',\n",
    "    main_indep_var= 'excess_reserve',\n",
    "    dep_var_name= 'Normalized Overnight Rate',                 \n",
    "    main_indep_var_name= 'Excess Reserve',\n",
    "    constant = True,\n",
    "    Q = 0.9,\n",
    "    nFolds=5,\n",
    "    parallel=True,\n",
    "    search_method = 'all_combinations'\n",
    ")"
   ]
  },
  {
   "cell_type": "code",
   "execution_count": null,
   "id": "1c222dde",
   "metadata": {},
   "outputs": [],
   "source": [
    "_ = obj.plot_x_y()"
   ]
  },
  {
   "cell_type": "code",
   "execution_count": null,
   "id": "9ca3bb0f",
   "metadata": {},
   "outputs": [],
   "source": [
    "best_curve, cv_result = obj.variable_select(on='RMSE', verbose=True, plot=True)\n",
    "cv_result.set_index('Curve').T"
   ]
  },
  {
   "cell_type": "code",
   "execution_count": null,
   "id": "46253fb7",
   "metadata": {},
   "outputs": [],
   "source": [
    "obj.indep_vars_occurence(normalize=False)"
   ]
  },
  {
   "cell_type": "code",
   "execution_count": null,
   "id": "78c47493",
   "metadata": {},
   "outputs": [],
   "source": [
    "best_params = obj.fit_best_curves()"
   ]
  },
  {
   "cell_type": "code",
   "execution_count": null,
   "id": "57ffa1ca",
   "metadata": {},
   "outputs": [],
   "source": [
    "perf_metrics_df, predictions_df, param_df = obj.compare_best_curves(CI = True)"
   ]
  },
  {
   "cell_type": "code",
   "execution_count": null,
   "id": "c8cd3d70",
   "metadata": {},
   "outputs": [],
   "source": [
    "perf_metrics_df"
   ]
  },
  {
   "cell_type": "code",
   "execution_count": null,
   "id": "f78d46f6",
   "metadata": {},
   "outputs": [],
   "source": [
    "predictions_df.head()"
   ]
  },
  {
   "cell_type": "code",
   "execution_count": null,
   "id": "d3616e5b",
   "metadata": {},
   "outputs": [],
   "source": [
    "param_df.loc['logistic']"
   ]
  },
  {
   "cell_type": "code",
   "execution_count": null,
   "id": "6df7c27d",
   "metadata": {},
   "outputs": [],
   "source": [
    "forecast_input = dat.tail(2).drop(columns=['Normalized'])\n",
    "forecast_output = obj.predict_best_curve('logistic', X=forecast_input)\n",
    "forecast_output"
   ]
  },
  {
   "cell_type": "code",
   "execution_count": null,
   "id": "6c22d362",
   "metadata": {},
   "outputs": [],
   "source": [
    "obj.most_probable_value(curvename='logistic', known_value=('excess_reserve', 1755207), verbose=True)"
   ]
  },
  {
   "cell_type": "code",
   "execution_count": null,
   "id": "31686bc4",
   "metadata": {},
   "outputs": [],
   "source": [
    "obj.most_probable_value(curvename='logistic', known_value=('Normalized', 0.38), verbose=True)"
   ]
  },
  {
   "cell_type": "markdown",
   "id": "3a426582",
   "metadata": {},
   "source": [
    "# Parametric Additive Model"
   ]
  },
  {
   "cell_type": "code",
   "execution_count": null,
   "id": "42c970dc",
   "metadata": {},
   "outputs": [],
   "source": [
    "import reserves_demand.curve_paramadd_fit as pcf\n",
    "obj = pcf.CurveParamAdditiveFit(\n",
    "    data = dat, \n",
    "    dep_var = 'Normalized',\n",
    "    main_indep_var= 'excess_reserve',\n",
    "    dep_var_name= 'Normalized Overnight Rate',                 \n",
    "    main_indep_var_name= 'Excess Reserve',\n",
    "    Q = 0.9,\n",
    "    nFolds=5,\n",
    "    parallel=True,\n",
    "    search_method = 'all_combinations'\n",
    ")"
   ]
  },
  {
   "cell_type": "code",
   "execution_count": null,
   "id": "8e1ed99d",
   "metadata": {},
   "outputs": [],
   "source": [
    "best_curve, cv_result = obj.variable_select(on='RMSE', verbose=True, plot=True)\n",
    "cv_result.set_index('Curve').T"
   ]
  },
  {
   "cell_type": "code",
   "execution_count": null,
   "id": "a2f61895",
   "metadata": {},
   "outputs": [],
   "source": [
    "obj.indep_vars_occurence(normalize=False)"
   ]
  },
  {
   "cell_type": "code",
   "execution_count": null,
   "id": "9d2d9177",
   "metadata": {},
   "outputs": [],
   "source": [
    "best_params = obj.fit_best_curves()"
   ]
  },
  {
   "cell_type": "code",
   "execution_count": null,
   "id": "305f42fb",
   "metadata": {},
   "outputs": [],
   "source": [
    "perf_metrics_df, predictions_df, param_df = obj.compare_best_curves(CI = True)"
   ]
  },
  {
   "cell_type": "code",
   "execution_count": null,
   "id": "134744bc",
   "metadata": {},
   "outputs": [],
   "source": [
    "perf_metrics_df"
   ]
  },
  {
   "cell_type": "code",
   "execution_count": null,
   "id": "1e17ac99",
   "metadata": {},
   "outputs": [],
   "source": [
    "forecast_input = dat.tail(2).drop(columns=['Normalized'])\n",
    "forecast_output = obj.predict_best_curve('logistic', X=forecast_input)\n",
    "forecast_output"
   ]
  },
  {
   "cell_type": "code",
   "execution_count": null,
   "id": "bdf1ced3",
   "metadata": {},
   "outputs": [],
   "source": [
    "obj.most_probable_value(curvename='logistic', known_value=('excess_reserve', 1755207), verbose=True)"
   ]
  },
  {
   "cell_type": "code",
   "execution_count": null,
   "id": "99f4adf2",
   "metadata": {},
   "outputs": [],
   "source": [
    "obj.most_probable_value(curvename='logistic', known_value=('Normalized', 0.38), verbose=True)"
   ]
  }
 ],
 "metadata": {
  "kernelspec": {
   "display_name": "reserves",
   "language": "python",
   "name": "reserves"
  },
  "language_info": {
   "codemirror_mode": {
    "name": "ipython",
    "version": 3
   },
   "file_extension": ".py",
   "mimetype": "text/x-python",
   "name": "python",
   "nbconvert_exporter": "python",
   "pygments_lexer": "ipython3",
   "version": "3.9.7"
  }
 },
 "nbformat": 4,
 "nbformat_minor": 5
}
